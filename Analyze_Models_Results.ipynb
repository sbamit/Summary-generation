{
  "cells": [
    {
      "cell_type": "markdown",
      "metadata": {
        "id": "hBEz-DvB9z_6"
      },
      "source": [
        "# Analyze ML Models' Results"
      ]
    },
    {
      "cell_type": "markdown",
      "source": [
        "## Connect to GoogleDrive"
      ],
      "metadata": {
        "id": "8P1mcULGME1a"
      }
    },
    {
      "cell_type": "code",
      "execution_count": null,
      "metadata": {
        "colab": {
          "base_uri": "https://localhost:8080/"
        },
        "id": "qU76oJu0Ls8w",
        "outputId": "0c6c7085-f6ba-4fcf-a163-be1e991c0d86"
      },
      "outputs": [
        {
          "output_type": "stream",
          "name": "stdout",
          "text": [
            "Mounted at /content/drive\n"
          ]
        }
      ],
      "source": [
        "from google.colab import drive\n",
        "drive.mount('/content/drive', force_remount=True)"
      ]
    },
    {
      "cell_type": "code",
      "source": [
        "%cd /content/drive/MyDrive/Colab\\ Notebooks/CIS5930_Project/\n",
        "%ls"
      ],
      "metadata": {
        "id": "WpZMWiBeL4Yo",
        "colab": {
          "base_uri": "https://localhost:8080/"
        },
        "outputId": "3a4dda17-b91a-4401-c4fe-07c4e7f8e336"
      },
      "execution_count": null,
      "outputs": [
        {
          "output_type": "stream",
          "name": "stdout",
          "text": [
            "/content/drive/MyDrive/Colab Notebooks/CIS5930_Project\n",
            "'Arunima-CIS 5930 Project: Data Wrangling.ipynb'\n",
            "'CIS 5930 Project: Data Wrangling.ipynb'\n",
            "'CIS 5930 Project: ML Model.ipynb'\n",
            "'CIS 5930 Project: ML Results.ipynb'\n",
            " cv_results_LEDE3.pickle\n",
            " cv_results_lstm_bi25_embeddings_only_epochs1_top3.pickle\n",
            " cv_results_lstm_bi50_embeddings_only_epochs1_top3.pickle\n",
            " cv_results_lstm_bi75_embeddings_only_epochs1_top3.pickle\n",
            " cv_results_lstm_uni25_embeddings_only_epochs1_top3.pickle\n",
            " cv_results_lstm_uni50_embeddings_only_epochs1_top3.pickle\n",
            " cv_results_nn2525_embeddings_only_cw_top3_epochs50.pickle\n",
            " cv_results_nn2550_embeddings_only_cw_top3_epochs50.pickle\n",
            " cv_results_nn5050_embeddings_only_cw_top3_epochs50.pickle\n",
            " cv_results_textrank.pickle\n",
            " cv_results_top_3_logreg_cw_balanced.pickle\n",
            " cv_results_top_3_logreg_default.pickle\n",
            " cv_results_top_3_logreg_elasticnet_gridsearch.pickle\n",
            " cv_results_top_3_logreg_elasticnet.pickle\n",
            " cv_results_top_3_logreg_sent_num_bal.pickle\n",
            " cv_results_top_3_logreg_sent_num_no_bal.pickle\n",
            " dev-stats.jsonl\n",
            " extractive_all_domain_labels.pickle\n",
            " functions.py\n",
            " \u001b[0m\u001b[01;34m__pycache__\u001b[0m/\n",
            " test-stats.jsonl\n",
            " train_stats_df_extractive_no_spacy.pickle\n",
            " train_stats_df_no_spacy.pickle\n",
            " train_stats_df_processed_extr_5000.pickle\n",
            " train_stats_df_processed_extr_label_5000.pickle\n",
            " train_stats_dict_processed_extr_final_5000_inc_pagerank.pickle\n",
            " train_stats_dict_processed_extr_final_5000_.pickle\n",
            " train-stats.jsonl\n",
            " train_test_set20_embeddings_only.pickle\n",
            " train_test_set20_embeddings_sent_num.pickle\n"
          ]
        }
      ]
    },
    {
      "cell_type": "markdown",
      "metadata": {
        "id": "XzQzjLdL9z_8"
      },
      "source": [
        "## Section 1: Supervised Learning Using Only Embedding Information"
      ]
    },
    {
      "cell_type": "markdown",
      "metadata": {
        "id": "FeAtxT6Y9z_8"
      },
      "source": [
        "### LogReg Embedding Only"
      ]
    },
    {
      "cell_type": "code",
      "execution_count": null,
      "metadata": {
        "id": "RknYsVqd9z_9"
      },
      "outputs": [],
      "source": [
        "import pandas as pd\n",
        "\n",
        "#load results data\n",
        "input_default =  'cv_results_top_3_logreg_default.pickle'\n",
        "r_def = pd.read_pickle(input_default)\n"
      ]
    },
    {
      "cell_type": "code",
      "execution_count": null,
      "metadata": {
        "id": "5I2-dtXl9z_-",
        "outputId": "58238118-8465-4e03-dbd9-6a87f4b6f0e4",
        "colab": {
          "base_uri": "https://localhost:8080/",
          "height": 81
        }
      },
      "outputs": [
        {
          "output_type": "execute_result",
          "data": {
            "text/plain": [
              "ROUGE-1         f1  recall  precision\n",
              "LogisticReg  0.416   0.398      0.578"
            ],
            "text/html": [
              "\n",
              "  <div id=\"df-9fe3c1cc-ed38-4feb-9e1b-9ce189c9312e\">\n",
              "    <div class=\"colab-df-container\">\n",
              "      <div>\n",
              "<style scoped>\n",
              "    .dataframe tbody tr th:only-of-type {\n",
              "        vertical-align: middle;\n",
              "    }\n",
              "\n",
              "    .dataframe tbody tr th {\n",
              "        vertical-align: top;\n",
              "    }\n",
              "\n",
              "    .dataframe thead th {\n",
              "        text-align: right;\n",
              "    }\n",
              "</style>\n",
              "<table border=\"1\" class=\"dataframe\">\n",
              "  <thead>\n",
              "    <tr style=\"text-align: right;\">\n",
              "      <th>ROUGE-1</th>\n",
              "      <th>f1</th>\n",
              "      <th>recall</th>\n",
              "      <th>precision</th>\n",
              "    </tr>\n",
              "  </thead>\n",
              "  <tbody>\n",
              "    <tr>\n",
              "      <th>LogisticReg</th>\n",
              "      <td>0.416</td>\n",
              "      <td>0.398</td>\n",
              "      <td>0.578</td>\n",
              "    </tr>\n",
              "  </tbody>\n",
              "</table>\n",
              "</div>\n",
              "      <button class=\"colab-df-convert\" onclick=\"convertToInteractive('df-9fe3c1cc-ed38-4feb-9e1b-9ce189c9312e')\"\n",
              "              title=\"Convert this dataframe to an interactive table.\"\n",
              "              style=\"display:none;\">\n",
              "        \n",
              "  <svg xmlns=\"http://www.w3.org/2000/svg\" height=\"24px\"viewBox=\"0 0 24 24\"\n",
              "       width=\"24px\">\n",
              "    <path d=\"M0 0h24v24H0V0z\" fill=\"none\"/>\n",
              "    <path d=\"M18.56 5.44l.94 2.06.94-2.06 2.06-.94-2.06-.94-.94-2.06-.94 2.06-2.06.94zm-11 1L8.5 8.5l.94-2.06 2.06-.94-2.06-.94L8.5 2.5l-.94 2.06-2.06.94zm10 10l.94 2.06.94-2.06 2.06-.94-2.06-.94-.94-2.06-.94 2.06-2.06.94z\"/><path d=\"M17.41 7.96l-1.37-1.37c-.4-.4-.92-.59-1.43-.59-.52 0-1.04.2-1.43.59L10.3 9.45l-7.72 7.72c-.78.78-.78 2.05 0 2.83L4 21.41c.39.39.9.59 1.41.59.51 0 1.02-.2 1.41-.59l7.78-7.78 2.81-2.81c.8-.78.8-2.07 0-2.86zM5.41 20L4 18.59l7.72-7.72 1.47 1.35L5.41 20z\"/>\n",
              "  </svg>\n",
              "      </button>\n",
              "      \n",
              "  <style>\n",
              "    .colab-df-container {\n",
              "      display:flex;\n",
              "      flex-wrap:wrap;\n",
              "      gap: 12px;\n",
              "    }\n",
              "\n",
              "    .colab-df-convert {\n",
              "      background-color: #E8F0FE;\n",
              "      border: none;\n",
              "      border-radius: 50%;\n",
              "      cursor: pointer;\n",
              "      display: none;\n",
              "      fill: #1967D2;\n",
              "      height: 32px;\n",
              "      padding: 0 0 0 0;\n",
              "      width: 32px;\n",
              "    }\n",
              "\n",
              "    .colab-df-convert:hover {\n",
              "      background-color: #E2EBFA;\n",
              "      box-shadow: 0px 1px 2px rgba(60, 64, 67, 0.3), 0px 1px 3px 1px rgba(60, 64, 67, 0.15);\n",
              "      fill: #174EA6;\n",
              "    }\n",
              "\n",
              "    [theme=dark] .colab-df-convert {\n",
              "      background-color: #3B4455;\n",
              "      fill: #D2E3FC;\n",
              "    }\n",
              "\n",
              "    [theme=dark] .colab-df-convert:hover {\n",
              "      background-color: #434B5C;\n",
              "      box-shadow: 0px 1px 3px 1px rgba(0, 0, 0, 0.15);\n",
              "      filter: drop-shadow(0px 1px 2px rgba(0, 0, 0, 0.3));\n",
              "      fill: #FFFFFF;\n",
              "    }\n",
              "  </style>\n",
              "\n",
              "      <script>\n",
              "        const buttonEl =\n",
              "          document.querySelector('#df-9fe3c1cc-ed38-4feb-9e1b-9ce189c9312e button.colab-df-convert');\n",
              "        buttonEl.style.display =\n",
              "          google.colab.kernel.accessAllowed ? 'block' : 'none';\n",
              "\n",
              "        async function convertToInteractive(key) {\n",
              "          const element = document.querySelector('#df-9fe3c1cc-ed38-4feb-9e1b-9ce189c9312e');\n",
              "          const dataTable =\n",
              "            await google.colab.kernel.invokeFunction('convertToInteractive',\n",
              "                                                     [key], {});\n",
              "          if (!dataTable) return;\n",
              "\n",
              "          const docLinkHtml = 'Like what you see? Visit the ' +\n",
              "            '<a target=\"_blank\" href=https://colab.research.google.com/notebooks/data_table.ipynb>data table notebook</a>'\n",
              "            + ' to learn more about interactive tables.';\n",
              "          element.innerHTML = '';\n",
              "          dataTable['output_type'] = 'display_data';\n",
              "          await google.colab.output.renderOutput(dataTable, element);\n",
              "          const docLink = document.createElement('div');\n",
              "          docLink.innerHTML = docLinkHtml;\n",
              "          element.appendChild(docLink);\n",
              "        }\n",
              "      </script>\n",
              "    </div>\n",
              "  </div>\n",
              "  "
            ]
          },
          "metadata": {},
          "execution_count": 4
        }
      ],
      "source": [
        "#wrap rouge score in dataframe\n",
        "df_def = pd.DataFrame(r_def['Rouge']['rouge1'], index=['LogisticReg']).apply(lambda x: round(x,3))\n",
        "df_logreg = pd.concat([df_def])\n",
        "df_logreg.columns.name = 'ROUGE-1'\n",
        "#df_logreg.index.name = 'LogisticReg'\n",
        "df_logreg[['f1', 'recall', 'precision']]"
      ]
    },
    {
      "cell_type": "markdown",
      "metadata": {
        "id": "iI1h7r7y90AC"
      },
      "source": [
        "### Neural Nets"
      ]
    },
    {
      "cell_type": "code",
      "execution_count": null,
      "metadata": {
        "id": "AxlYAxLB90AC"
      },
      "outputs": [],
      "source": [
        "#load results\n",
        "#load results\n",
        "input_2525 = 'cv_results_nn2525_embeddings_only_cw_top3_epochs50.pickle'\n",
        "input_2550 = 'cv_results_nn2550_embeddings_only_cw_top3_epochs50.pickle'\n",
        "input_5050 = 'cv_results_nn5050_embeddings_only_cw_top3_epochs50.pickle'\n",
        "\n",
        "r_nn2525 = pd.read_pickle(input_2525)\n",
        "r_nn2550 = pd.read_pickle(input_2550)\n",
        "r_nn5050 = pd.read_pickle(input_5050)\n"
      ]
    },
    {
      "cell_type": "code",
      "execution_count": null,
      "metadata": {
        "id": "gr0vEH4s90AC"
      },
      "outputs": [],
      "source": [
        "#wrap rouge score in dataframe\n",
        "df_nn2525 = pd.DataFrame(r_nn2525['Rouge']['rouge1'], index=['NN 25 25']).apply(lambda x: round(x,3))\n",
        "df_nn2550 = pd.DataFrame(r_nn2550['Rouge']['rouge1'], index=['NN 25 50']).apply(lambda x: round(x,3))\n",
        "df_nn5050 = pd.DataFrame(r_nn5050['Rouge']['rouge1'], index=['NN 50 50']).apply(lambda x: round(x,3))"
      ]
    },
    {
      "cell_type": "code",
      "source": [
        "#concatenate\n",
        "df_nn = pd.concat([df_nn2525, df_nn2550, df_nn5050])"
      ],
      "metadata": {
        "id": "YT-ONiktv26w"
      },
      "execution_count": null,
      "outputs": []
    },
    {
      "cell_type": "code",
      "execution_count": null,
      "metadata": {
        "id": "mM7Qu82S90AD",
        "outputId": "dfbcf9da-1502-45ee-f2df-6a0f032db6cd",
        "colab": {
          "base_uri": "https://localhost:8080/",
          "height": 175
        }
      },
      "outputs": [
        {
          "output_type": "execute_result",
          "data": {
            "text/plain": [
              "ROUGE-1                          f1  recall  precision\n",
              "Neural Network (Dense Dense)                          \n",
              "NN 25 25                      0.403   0.379      0.577\n",
              "NN 25 50                      0.396   0.390      0.551\n",
              "NN 50 50                      0.399   0.393      0.549"
            ],
            "text/html": [
              "\n",
              "  <div id=\"df-99cb1e6f-a088-4208-9c5c-cf3be626a378\">\n",
              "    <div class=\"colab-df-container\">\n",
              "      <div>\n",
              "<style scoped>\n",
              "    .dataframe tbody tr th:only-of-type {\n",
              "        vertical-align: middle;\n",
              "    }\n",
              "\n",
              "    .dataframe tbody tr th {\n",
              "        vertical-align: top;\n",
              "    }\n",
              "\n",
              "    .dataframe thead th {\n",
              "        text-align: right;\n",
              "    }\n",
              "</style>\n",
              "<table border=\"1\" class=\"dataframe\">\n",
              "  <thead>\n",
              "    <tr style=\"text-align: right;\">\n",
              "      <th>ROUGE-1</th>\n",
              "      <th>f1</th>\n",
              "      <th>recall</th>\n",
              "      <th>precision</th>\n",
              "    </tr>\n",
              "    <tr>\n",
              "      <th>Neural Network (Dense Dense)</th>\n",
              "      <th></th>\n",
              "      <th></th>\n",
              "      <th></th>\n",
              "    </tr>\n",
              "  </thead>\n",
              "  <tbody>\n",
              "    <tr>\n",
              "      <th>NN 25 25</th>\n",
              "      <td>0.403</td>\n",
              "      <td>0.379</td>\n",
              "      <td>0.577</td>\n",
              "    </tr>\n",
              "    <tr>\n",
              "      <th>NN 25 50</th>\n",
              "      <td>0.396</td>\n",
              "      <td>0.390</td>\n",
              "      <td>0.551</td>\n",
              "    </tr>\n",
              "    <tr>\n",
              "      <th>NN 50 50</th>\n",
              "      <td>0.399</td>\n",
              "      <td>0.393</td>\n",
              "      <td>0.549</td>\n",
              "    </tr>\n",
              "  </tbody>\n",
              "</table>\n",
              "</div>\n",
              "      <button class=\"colab-df-convert\" onclick=\"convertToInteractive('df-99cb1e6f-a088-4208-9c5c-cf3be626a378')\"\n",
              "              title=\"Convert this dataframe to an interactive table.\"\n",
              "              style=\"display:none;\">\n",
              "        \n",
              "  <svg xmlns=\"http://www.w3.org/2000/svg\" height=\"24px\"viewBox=\"0 0 24 24\"\n",
              "       width=\"24px\">\n",
              "    <path d=\"M0 0h24v24H0V0z\" fill=\"none\"/>\n",
              "    <path d=\"M18.56 5.44l.94 2.06.94-2.06 2.06-.94-2.06-.94-.94-2.06-.94 2.06-2.06.94zm-11 1L8.5 8.5l.94-2.06 2.06-.94-2.06-.94L8.5 2.5l-.94 2.06-2.06.94zm10 10l.94 2.06.94-2.06 2.06-.94-2.06-.94-.94-2.06-.94 2.06-2.06.94z\"/><path d=\"M17.41 7.96l-1.37-1.37c-.4-.4-.92-.59-1.43-.59-.52 0-1.04.2-1.43.59L10.3 9.45l-7.72 7.72c-.78.78-.78 2.05 0 2.83L4 21.41c.39.39.9.59 1.41.59.51 0 1.02-.2 1.41-.59l7.78-7.78 2.81-2.81c.8-.78.8-2.07 0-2.86zM5.41 20L4 18.59l7.72-7.72 1.47 1.35L5.41 20z\"/>\n",
              "  </svg>\n",
              "      </button>\n",
              "      \n",
              "  <style>\n",
              "    .colab-df-container {\n",
              "      display:flex;\n",
              "      flex-wrap:wrap;\n",
              "      gap: 12px;\n",
              "    }\n",
              "\n",
              "    .colab-df-convert {\n",
              "      background-color: #E8F0FE;\n",
              "      border: none;\n",
              "      border-radius: 50%;\n",
              "      cursor: pointer;\n",
              "      display: none;\n",
              "      fill: #1967D2;\n",
              "      height: 32px;\n",
              "      padding: 0 0 0 0;\n",
              "      width: 32px;\n",
              "    }\n",
              "\n",
              "    .colab-df-convert:hover {\n",
              "      background-color: #E2EBFA;\n",
              "      box-shadow: 0px 1px 2px rgba(60, 64, 67, 0.3), 0px 1px 3px 1px rgba(60, 64, 67, 0.15);\n",
              "      fill: #174EA6;\n",
              "    }\n",
              "\n",
              "    [theme=dark] .colab-df-convert {\n",
              "      background-color: #3B4455;\n",
              "      fill: #D2E3FC;\n",
              "    }\n",
              "\n",
              "    [theme=dark] .colab-df-convert:hover {\n",
              "      background-color: #434B5C;\n",
              "      box-shadow: 0px 1px 3px 1px rgba(0, 0, 0, 0.15);\n",
              "      filter: drop-shadow(0px 1px 2px rgba(0, 0, 0, 0.3));\n",
              "      fill: #FFFFFF;\n",
              "    }\n",
              "  </style>\n",
              "\n",
              "      <script>\n",
              "        const buttonEl =\n",
              "          document.querySelector('#df-99cb1e6f-a088-4208-9c5c-cf3be626a378 button.colab-df-convert');\n",
              "        buttonEl.style.display =\n",
              "          google.colab.kernel.accessAllowed ? 'block' : 'none';\n",
              "\n",
              "        async function convertToInteractive(key) {\n",
              "          const element = document.querySelector('#df-99cb1e6f-a088-4208-9c5c-cf3be626a378');\n",
              "          const dataTable =\n",
              "            await google.colab.kernel.invokeFunction('convertToInteractive',\n",
              "                                                     [key], {});\n",
              "          if (!dataTable) return;\n",
              "\n",
              "          const docLinkHtml = 'Like what you see? Visit the ' +\n",
              "            '<a target=\"_blank\" href=https://colab.research.google.com/notebooks/data_table.ipynb>data table notebook</a>'\n",
              "            + ' to learn more about interactive tables.';\n",
              "          element.innerHTML = '';\n",
              "          dataTable['output_type'] = 'display_data';\n",
              "          await google.colab.output.renderOutput(dataTable, element);\n",
              "          const docLink = document.createElement('div');\n",
              "          docLink.innerHTML = docLinkHtml;\n",
              "          element.appendChild(docLink);\n",
              "        }\n",
              "      </script>\n",
              "    </div>\n",
              "  </div>\n",
              "  "
            ]
          },
          "metadata": {},
          "execution_count": 26
        }
      ],
      "source": [
        "#display\n",
        "df_nn.columns.name = 'ROUGE-1'\n",
        "df_nn.index.name = 'Neural Network (Dense Dense)'\n",
        "df_nn = df_nn[['f1', 'recall', 'precision']]\n",
        "\n",
        "df_nn"
      ]
    },
    {
      "cell_type": "markdown",
      "source": [
        "## Score comparison between Logistic Regresseion and Neural Net"
      ],
      "metadata": {
        "id": "OSW1jhy5exlh"
      }
    },
    {
      "cell_type": "code",
      "source": [
        "input_default = 'cv_results_top_3_logreg_default.pickle'\n",
        "input_5050 = 'cv_results_nn5050_embeddings_only_cw_top3_epochs50.pickle'\n",
        "r_def = pd.read_pickle(input_default)\n",
        "r_nn5050 = pd.read_pickle(input_5050)\n",
        "\n",
        "#wrap rouge score in dataframe\n",
        "df_def = pd.DataFrame(r_def['Rouge']['rouge1'], index=['Logistic Reg']).apply(lambda x: round(x,3))\n",
        "df_nn5050 = pd.DataFrame(r_nn5050['Rouge']['rouge1'], index=['NN 50 50']).apply(lambda x: round(x,3))\n",
        "\n",
        "#concatenate\n",
        "df_nn = pd.concat([df_def, df_nn5050])\n",
        "\n",
        "#display\n",
        "df_nn.columns.name = 'ROUGE-1'\n",
        "#df_nn.index.name = 'Neural Network (Dense Dense)'\n",
        "df_nn = df_nn[['f1', 'recall', 'precision']]\n",
        "\n",
        "df_nn\n"
      ],
      "metadata": {
        "colab": {
          "base_uri": "https://localhost:8080/",
          "height": 112
        },
        "id": "B2ODY-H6e8Jf",
        "outputId": "1fa0333c-f506-4cc5-de30-990b4c1fa8d9"
      },
      "execution_count": null,
      "outputs": [
        {
          "output_type": "execute_result",
          "data": {
            "text/plain": [
              "ROUGE-1          f1  recall  precision\n",
              "Logistic Reg  0.416   0.398      0.578\n",
              "NN 50 50      0.399   0.393      0.549"
            ],
            "text/html": [
              "\n",
              "  <div id=\"df-ee6e6b3a-de05-44c1-839d-230bb99bd845\">\n",
              "    <div class=\"colab-df-container\">\n",
              "      <div>\n",
              "<style scoped>\n",
              "    .dataframe tbody tr th:only-of-type {\n",
              "        vertical-align: middle;\n",
              "    }\n",
              "\n",
              "    .dataframe tbody tr th {\n",
              "        vertical-align: top;\n",
              "    }\n",
              "\n",
              "    .dataframe thead th {\n",
              "        text-align: right;\n",
              "    }\n",
              "</style>\n",
              "<table border=\"1\" class=\"dataframe\">\n",
              "  <thead>\n",
              "    <tr style=\"text-align: right;\">\n",
              "      <th>ROUGE-1</th>\n",
              "      <th>f1</th>\n",
              "      <th>recall</th>\n",
              "      <th>precision</th>\n",
              "    </tr>\n",
              "  </thead>\n",
              "  <tbody>\n",
              "    <tr>\n",
              "      <th>Logistic Reg</th>\n",
              "      <td>0.416</td>\n",
              "      <td>0.398</td>\n",
              "      <td>0.578</td>\n",
              "    </tr>\n",
              "    <tr>\n",
              "      <th>NN 50 50</th>\n",
              "      <td>0.399</td>\n",
              "      <td>0.393</td>\n",
              "      <td>0.549</td>\n",
              "    </tr>\n",
              "  </tbody>\n",
              "</table>\n",
              "</div>\n",
              "      <button class=\"colab-df-convert\" onclick=\"convertToInteractive('df-ee6e6b3a-de05-44c1-839d-230bb99bd845')\"\n",
              "              title=\"Convert this dataframe to an interactive table.\"\n",
              "              style=\"display:none;\">\n",
              "        \n",
              "  <svg xmlns=\"http://www.w3.org/2000/svg\" height=\"24px\"viewBox=\"0 0 24 24\"\n",
              "       width=\"24px\">\n",
              "    <path d=\"M0 0h24v24H0V0z\" fill=\"none\"/>\n",
              "    <path d=\"M18.56 5.44l.94 2.06.94-2.06 2.06-.94-2.06-.94-.94-2.06-.94 2.06-2.06.94zm-11 1L8.5 8.5l.94-2.06 2.06-.94-2.06-.94L8.5 2.5l-.94 2.06-2.06.94zm10 10l.94 2.06.94-2.06 2.06-.94-2.06-.94-.94-2.06-.94 2.06-2.06.94z\"/><path d=\"M17.41 7.96l-1.37-1.37c-.4-.4-.92-.59-1.43-.59-.52 0-1.04.2-1.43.59L10.3 9.45l-7.72 7.72c-.78.78-.78 2.05 0 2.83L4 21.41c.39.39.9.59 1.41.59.51 0 1.02-.2 1.41-.59l7.78-7.78 2.81-2.81c.8-.78.8-2.07 0-2.86zM5.41 20L4 18.59l7.72-7.72 1.47 1.35L5.41 20z\"/>\n",
              "  </svg>\n",
              "      </button>\n",
              "      \n",
              "  <style>\n",
              "    .colab-df-container {\n",
              "      display:flex;\n",
              "      flex-wrap:wrap;\n",
              "      gap: 12px;\n",
              "    }\n",
              "\n",
              "    .colab-df-convert {\n",
              "      background-color: #E8F0FE;\n",
              "      border: none;\n",
              "      border-radius: 50%;\n",
              "      cursor: pointer;\n",
              "      display: none;\n",
              "      fill: #1967D2;\n",
              "      height: 32px;\n",
              "      padding: 0 0 0 0;\n",
              "      width: 32px;\n",
              "    }\n",
              "\n",
              "    .colab-df-convert:hover {\n",
              "      background-color: #E2EBFA;\n",
              "      box-shadow: 0px 1px 2px rgba(60, 64, 67, 0.3), 0px 1px 3px 1px rgba(60, 64, 67, 0.15);\n",
              "      fill: #174EA6;\n",
              "    }\n",
              "\n",
              "    [theme=dark] .colab-df-convert {\n",
              "      background-color: #3B4455;\n",
              "      fill: #D2E3FC;\n",
              "    }\n",
              "\n",
              "    [theme=dark] .colab-df-convert:hover {\n",
              "      background-color: #434B5C;\n",
              "      box-shadow: 0px 1px 3px 1px rgba(0, 0, 0, 0.15);\n",
              "      filter: drop-shadow(0px 1px 2px rgba(0, 0, 0, 0.3));\n",
              "      fill: #FFFFFF;\n",
              "    }\n",
              "  </style>\n",
              "\n",
              "      <script>\n",
              "        const buttonEl =\n",
              "          document.querySelector('#df-ee6e6b3a-de05-44c1-839d-230bb99bd845 button.colab-df-convert');\n",
              "        buttonEl.style.display =\n",
              "          google.colab.kernel.accessAllowed ? 'block' : 'none';\n",
              "\n",
              "        async function convertToInteractive(key) {\n",
              "          const element = document.querySelector('#df-ee6e6b3a-de05-44c1-839d-230bb99bd845');\n",
              "          const dataTable =\n",
              "            await google.colab.kernel.invokeFunction('convertToInteractive',\n",
              "                                                     [key], {});\n",
              "          if (!dataTable) return;\n",
              "\n",
              "          const docLinkHtml = 'Like what you see? Visit the ' +\n",
              "            '<a target=\"_blank\" href=https://colab.research.google.com/notebooks/data_table.ipynb>data table notebook</a>'\n",
              "            + ' to learn more about interactive tables.';\n",
              "          element.innerHTML = '';\n",
              "          dataTable['output_type'] = 'display_data';\n",
              "          await google.colab.output.renderOutput(dataTable, element);\n",
              "          const docLink = document.createElement('div');\n",
              "          docLink.innerHTML = docLinkHtml;\n",
              "          element.appendChild(docLink);\n",
              "        }\n",
              "      </script>\n",
              "    </div>\n",
              "  </div>\n",
              "  "
            ]
          },
          "metadata": {},
          "execution_count": 23
        }
      ]
    },
    {
      "cell_type": "markdown",
      "metadata": {
        "id": "kU2LHdEM90AG"
      },
      "source": [
        "## Section 2: Supervised Learning Including Sequential Information"
      ]
    },
    {
      "cell_type": "markdown",
      "metadata": {
        "id": "WsHZDhKh90AG"
      },
      "source": [
        "### LogReg with Sentence Number"
      ]
    },
    {
      "cell_type": "code",
      "execution_count": null,
      "metadata": {
        "id": "vZaEHk1v90AG"
      },
      "outputs": [],
      "source": [
        "#load data\n",
        "import pandas as pd\n",
        "\n",
        "input_sent_num_def =  'cv_results_top_3_logreg_sent_num_no_bal.pickle'\n",
        "#input_sent_num_bal = 'cv_results_top_3_logreg_sent_num_bal.pickle'\n",
        "\n",
        "r_sent_num_def = pd.read_pickle(input_sent_num_def)\n",
        "#r_sent_num_bal = pd.read_pickle(input_sent_num_bal)"
      ]
    },
    {
      "cell_type": "code",
      "execution_count": null,
      "metadata": {
        "id": "cSsyorfU90AG",
        "outputId": "f72ea4ef-d787-46de-971d-971887a4dbb0",
        "colab": {
          "base_uri": "https://localhost:8080/"
        }
      },
      "outputs": [
        {
          "output_type": "execute_result",
          "data": {
            "text/plain": [
              "ROUGE-1          f1  recall  precision\n",
              "Logistic Reg  0.525   0.518      0.696"
            ],
            "text/html": [
              "\n",
              "  <div id=\"df-a2bb112e-17c4-4d15-8e05-4f72fb256e70\">\n",
              "    <div class=\"colab-df-container\">\n",
              "      <div>\n",
              "<style scoped>\n",
              "    .dataframe tbody tr th:only-of-type {\n",
              "        vertical-align: middle;\n",
              "    }\n",
              "\n",
              "    .dataframe tbody tr th {\n",
              "        vertical-align: top;\n",
              "    }\n",
              "\n",
              "    .dataframe thead th {\n",
              "        text-align: right;\n",
              "    }\n",
              "</style>\n",
              "<table border=\"1\" class=\"dataframe\">\n",
              "  <thead>\n",
              "    <tr style=\"text-align: right;\">\n",
              "      <th>ROUGE-1</th>\n",
              "      <th>f1</th>\n",
              "      <th>recall</th>\n",
              "      <th>precision</th>\n",
              "    </tr>\n",
              "  </thead>\n",
              "  <tbody>\n",
              "    <tr>\n",
              "      <th>Logistic Reg</th>\n",
              "      <td>0.525</td>\n",
              "      <td>0.518</td>\n",
              "      <td>0.696</td>\n",
              "    </tr>\n",
              "  </tbody>\n",
              "</table>\n",
              "</div>\n",
              "      <button class=\"colab-df-convert\" onclick=\"convertToInteractive('df-a2bb112e-17c4-4d15-8e05-4f72fb256e70')\"\n",
              "              title=\"Convert this dataframe to an interactive table.\"\n",
              "              style=\"display:none;\">\n",
              "        \n",
              "  <svg xmlns=\"http://www.w3.org/2000/svg\" height=\"24px\"viewBox=\"0 0 24 24\"\n",
              "       width=\"24px\">\n",
              "    <path d=\"M0 0h24v24H0V0z\" fill=\"none\"/>\n",
              "    <path d=\"M18.56 5.44l.94 2.06.94-2.06 2.06-.94-2.06-.94-.94-2.06-.94 2.06-2.06.94zm-11 1L8.5 8.5l.94-2.06 2.06-.94-2.06-.94L8.5 2.5l-.94 2.06-2.06.94zm10 10l.94 2.06.94-2.06 2.06-.94-2.06-.94-.94-2.06-.94 2.06-2.06.94z\"/><path d=\"M17.41 7.96l-1.37-1.37c-.4-.4-.92-.59-1.43-.59-.52 0-1.04.2-1.43.59L10.3 9.45l-7.72 7.72c-.78.78-.78 2.05 0 2.83L4 21.41c.39.39.9.59 1.41.59.51 0 1.02-.2 1.41-.59l7.78-7.78 2.81-2.81c.8-.78.8-2.07 0-2.86zM5.41 20L4 18.59l7.72-7.72 1.47 1.35L5.41 20z\"/>\n",
              "  </svg>\n",
              "      </button>\n",
              "      \n",
              "  <style>\n",
              "    .colab-df-container {\n",
              "      display:flex;\n",
              "      flex-wrap:wrap;\n",
              "      gap: 12px;\n",
              "    }\n",
              "\n",
              "    .colab-df-convert {\n",
              "      background-color: #E8F0FE;\n",
              "      border: none;\n",
              "      border-radius: 50%;\n",
              "      cursor: pointer;\n",
              "      display: none;\n",
              "      fill: #1967D2;\n",
              "      height: 32px;\n",
              "      padding: 0 0 0 0;\n",
              "      width: 32px;\n",
              "    }\n",
              "\n",
              "    .colab-df-convert:hover {\n",
              "      background-color: #E2EBFA;\n",
              "      box-shadow: 0px 1px 2px rgba(60, 64, 67, 0.3), 0px 1px 3px 1px rgba(60, 64, 67, 0.15);\n",
              "      fill: #174EA6;\n",
              "    }\n",
              "\n",
              "    [theme=dark] .colab-df-convert {\n",
              "      background-color: #3B4455;\n",
              "      fill: #D2E3FC;\n",
              "    }\n",
              "\n",
              "    [theme=dark] .colab-df-convert:hover {\n",
              "      background-color: #434B5C;\n",
              "      box-shadow: 0px 1px 3px 1px rgba(0, 0, 0, 0.15);\n",
              "      filter: drop-shadow(0px 1px 2px rgba(0, 0, 0, 0.3));\n",
              "      fill: #FFFFFF;\n",
              "    }\n",
              "  </style>\n",
              "\n",
              "      <script>\n",
              "        const buttonEl =\n",
              "          document.querySelector('#df-a2bb112e-17c4-4d15-8e05-4f72fb256e70 button.colab-df-convert');\n",
              "        buttonEl.style.display =\n",
              "          google.colab.kernel.accessAllowed ? 'block' : 'none';\n",
              "\n",
              "        async function convertToInteractive(key) {\n",
              "          const element = document.querySelector('#df-a2bb112e-17c4-4d15-8e05-4f72fb256e70');\n",
              "          const dataTable =\n",
              "            await google.colab.kernel.invokeFunction('convertToInteractive',\n",
              "                                                     [key], {});\n",
              "          if (!dataTable) return;\n",
              "\n",
              "          const docLinkHtml = 'Like what you see? Visit the ' +\n",
              "            '<a target=\"_blank\" href=https://colab.research.google.com/notebooks/data_table.ipynb>data table notebook</a>'\n",
              "            + ' to learn more about interactive tables.';\n",
              "          element.innerHTML = '';\n",
              "          dataTable['output_type'] = 'display_data';\n",
              "          await google.colab.output.renderOutput(dataTable, element);\n",
              "          const docLink = document.createElement('div');\n",
              "          docLink.innerHTML = docLinkHtml;\n",
              "          element.appendChild(docLink);\n",
              "        }\n",
              "      </script>\n",
              "    </div>\n",
              "  </div>\n",
              "  "
            ]
          },
          "metadata": {},
          "execution_count": 11
        }
      ],
      "source": [
        "#wrap rouge score in dataframe, concatenate and display\n",
        "df_sent_num_def= pd.DataFrame(r_sent_num_def['Rouge']['rouge1'], index=['Logistic Reg']).apply(lambda x: round(x,3))\n",
        "#df_sent_num_bal = pd.DataFrame(r_sent_num_bal['Rouge']['rouge1'], index=['Balanced']).apply(lambda x: round(x,3))\n",
        "\n",
        "df_lr_sent_num = pd.concat([df_sent_num_def]) \n",
        "df_lr_sent_num.columns.name = 'ROUGE-1'\n",
        "#df_lr_sent_num.index.name = 'LogReg'\n",
        "df_lr_sent_num[['f1', 'recall', 'precision']]"
      ]
    },
    {
      "cell_type": "markdown",
      "metadata": {
        "id": "jj-5bu4m90AG"
      },
      "source": [
        "### Long Short Term Memory (LSTM)"
      ]
    },
    {
      "cell_type": "code",
      "execution_count": null,
      "metadata": {
        "id": "4tErEBI990AG"
      },
      "outputs": [],
      "source": [
        "#load data\n",
        "input_lstm_un25 = 'cv_results_lstm_uni25_embeddings_only_epochs1_top3.pickle'\n",
        "input_lstm_un50 = 'cv_results_lstm_uni50_embeddings_only_epochs1_top3.pickle'\n",
        "input_lstm_bi25 = 'cv_results_lstm_bi25_embeddings_only_epochs1_top3.pickle'\n",
        "input_lstm_bi50 = 'cv_results_lstm_bi50_embeddings_only_epochs1_top3.pickle'\n",
        "input_lstm_bi75 = 'cv_results_lstm_bi75_embeddings_only_epochs1_top3.pickle'\n",
        "\n",
        "r_lstm_un25 = pd.read_pickle(input_lstm_un25)\n",
        "r_lstm_un50 = pd.read_pickle(input_lstm_un50)\n",
        "r_lstm_bi25 = pd.read_pickle(input_lstm_bi25)\n",
        "r_lstm_bi50 = pd.read_pickle(input_lstm_bi50)\n",
        "r_lstm_bi50 = pd.read_pickle(input_lstm_bi75)"
      ]
    },
    {
      "cell_type": "code",
      "execution_count": null,
      "metadata": {
        "id": "BDyLnzfs90AG"
      },
      "outputs": [],
      "source": [
        "#wrap rouge score in dataframe\n",
        "\n",
        "df_lstm_un25 = pd.DataFrame(r_lstm_un25['Rouge']['rouge1'], index=['LSTM Uni 25']).apply(lambda x: round(x,3))\n",
        "df_lstm_un50 = pd.DataFrame(r_lstm_un50['Rouge']['rouge1'], index=['LSTM Uni 50']).apply(lambda x: round(x,3))\n",
        "df_lstm_bi25 = pd.DataFrame(r_lstm_bi25['Rouge']['rouge1'], index=['LSTM Bi 25']).apply(lambda x: round(x,3))\n",
        "df_lstm_bi50 = pd.DataFrame(r_lstm_bi50['Rouge']['rouge1'], index=['LSTM Bi 50']).apply(lambda x: round(x,3))\n",
        "df_lstm_bi75 = pd.DataFrame(r_lstm_bi50['Rouge']['rouge1'], index=['LSTM Bi 75']).apply(lambda x: round(x,3))"
      ]
    },
    {
      "cell_type": "code",
      "execution_count": null,
      "metadata": {
        "id": "KMMQq8uL90AI"
      },
      "outputs": [],
      "source": [
        "#concatenate\n",
        "df_lstm = pd.concat([df_lstm_un25, df_lstm_un50, df_lstm_bi25, df_lstm_bi50, df_lstm_bi75])"
      ]
    },
    {
      "cell_type": "code",
      "execution_count": null,
      "metadata": {
        "id": "2EumZEx590AI",
        "outputId": "c49ef03b-3be0-4ce3-cb59-16ebc7c271b2",
        "colab": {
          "base_uri": "https://localhost:8080/",
          "height": 237
        }
      },
      "outputs": [
        {
          "output_type": "execute_result",
          "data": {
            "text/plain": [
              "ROUGE-1         f1  recall  precision\n",
              "LSTM                                 \n",
              "LSTM Uni 25  0.596   0.579      0.778\n",
              "LSTM Uni 50  0.596   0.576      0.783\n",
              "LSTM Bi 25   0.596   0.575      0.781\n",
              "LSTM Bi 50   0.599   0.577      0.785\n",
              "LSTM Bi 75   0.599   0.577      0.785"
            ],
            "text/html": [
              "\n",
              "  <div id=\"df-39421003-1539-4309-a289-4c70d9749597\">\n",
              "    <div class=\"colab-df-container\">\n",
              "      <div>\n",
              "<style scoped>\n",
              "    .dataframe tbody tr th:only-of-type {\n",
              "        vertical-align: middle;\n",
              "    }\n",
              "\n",
              "    .dataframe tbody tr th {\n",
              "        vertical-align: top;\n",
              "    }\n",
              "\n",
              "    .dataframe thead th {\n",
              "        text-align: right;\n",
              "    }\n",
              "</style>\n",
              "<table border=\"1\" class=\"dataframe\">\n",
              "  <thead>\n",
              "    <tr style=\"text-align: right;\">\n",
              "      <th>ROUGE-1</th>\n",
              "      <th>f1</th>\n",
              "      <th>recall</th>\n",
              "      <th>precision</th>\n",
              "    </tr>\n",
              "    <tr>\n",
              "      <th>LSTM</th>\n",
              "      <th></th>\n",
              "      <th></th>\n",
              "      <th></th>\n",
              "    </tr>\n",
              "  </thead>\n",
              "  <tbody>\n",
              "    <tr>\n",
              "      <th>LSTM Uni 25</th>\n",
              "      <td>0.596</td>\n",
              "      <td>0.579</td>\n",
              "      <td>0.778</td>\n",
              "    </tr>\n",
              "    <tr>\n",
              "      <th>LSTM Uni 50</th>\n",
              "      <td>0.596</td>\n",
              "      <td>0.576</td>\n",
              "      <td>0.783</td>\n",
              "    </tr>\n",
              "    <tr>\n",
              "      <th>LSTM Bi 25</th>\n",
              "      <td>0.596</td>\n",
              "      <td>0.575</td>\n",
              "      <td>0.781</td>\n",
              "    </tr>\n",
              "    <tr>\n",
              "      <th>LSTM Bi 50</th>\n",
              "      <td>0.599</td>\n",
              "      <td>0.577</td>\n",
              "      <td>0.785</td>\n",
              "    </tr>\n",
              "    <tr>\n",
              "      <th>LSTM Bi 75</th>\n",
              "      <td>0.599</td>\n",
              "      <td>0.577</td>\n",
              "      <td>0.785</td>\n",
              "    </tr>\n",
              "  </tbody>\n",
              "</table>\n",
              "</div>\n",
              "      <button class=\"colab-df-convert\" onclick=\"convertToInteractive('df-39421003-1539-4309-a289-4c70d9749597')\"\n",
              "              title=\"Convert this dataframe to an interactive table.\"\n",
              "              style=\"display:none;\">\n",
              "        \n",
              "  <svg xmlns=\"http://www.w3.org/2000/svg\" height=\"24px\"viewBox=\"0 0 24 24\"\n",
              "       width=\"24px\">\n",
              "    <path d=\"M0 0h24v24H0V0z\" fill=\"none\"/>\n",
              "    <path d=\"M18.56 5.44l.94 2.06.94-2.06 2.06-.94-2.06-.94-.94-2.06-.94 2.06-2.06.94zm-11 1L8.5 8.5l.94-2.06 2.06-.94-2.06-.94L8.5 2.5l-.94 2.06-2.06.94zm10 10l.94 2.06.94-2.06 2.06-.94-2.06-.94-.94-2.06-.94 2.06-2.06.94z\"/><path d=\"M17.41 7.96l-1.37-1.37c-.4-.4-.92-.59-1.43-.59-.52 0-1.04.2-1.43.59L10.3 9.45l-7.72 7.72c-.78.78-.78 2.05 0 2.83L4 21.41c.39.39.9.59 1.41.59.51 0 1.02-.2 1.41-.59l7.78-7.78 2.81-2.81c.8-.78.8-2.07 0-2.86zM5.41 20L4 18.59l7.72-7.72 1.47 1.35L5.41 20z\"/>\n",
              "  </svg>\n",
              "      </button>\n",
              "      \n",
              "  <style>\n",
              "    .colab-df-container {\n",
              "      display:flex;\n",
              "      flex-wrap:wrap;\n",
              "      gap: 12px;\n",
              "    }\n",
              "\n",
              "    .colab-df-convert {\n",
              "      background-color: #E8F0FE;\n",
              "      border: none;\n",
              "      border-radius: 50%;\n",
              "      cursor: pointer;\n",
              "      display: none;\n",
              "      fill: #1967D2;\n",
              "      height: 32px;\n",
              "      padding: 0 0 0 0;\n",
              "      width: 32px;\n",
              "    }\n",
              "\n",
              "    .colab-df-convert:hover {\n",
              "      background-color: #E2EBFA;\n",
              "      box-shadow: 0px 1px 2px rgba(60, 64, 67, 0.3), 0px 1px 3px 1px rgba(60, 64, 67, 0.15);\n",
              "      fill: #174EA6;\n",
              "    }\n",
              "\n",
              "    [theme=dark] .colab-df-convert {\n",
              "      background-color: #3B4455;\n",
              "      fill: #D2E3FC;\n",
              "    }\n",
              "\n",
              "    [theme=dark] .colab-df-convert:hover {\n",
              "      background-color: #434B5C;\n",
              "      box-shadow: 0px 1px 3px 1px rgba(0, 0, 0, 0.15);\n",
              "      filter: drop-shadow(0px 1px 2px rgba(0, 0, 0, 0.3));\n",
              "      fill: #FFFFFF;\n",
              "    }\n",
              "  </style>\n",
              "\n",
              "      <script>\n",
              "        const buttonEl =\n",
              "          document.querySelector('#df-39421003-1539-4309-a289-4c70d9749597 button.colab-df-convert');\n",
              "        buttonEl.style.display =\n",
              "          google.colab.kernel.accessAllowed ? 'block' : 'none';\n",
              "\n",
              "        async function convertToInteractive(key) {\n",
              "          const element = document.querySelector('#df-39421003-1539-4309-a289-4c70d9749597');\n",
              "          const dataTable =\n",
              "            await google.colab.kernel.invokeFunction('convertToInteractive',\n",
              "                                                     [key], {});\n",
              "          if (!dataTable) return;\n",
              "\n",
              "          const docLinkHtml = 'Like what you see? Visit the ' +\n",
              "            '<a target=\"_blank\" href=https://colab.research.google.com/notebooks/data_table.ipynb>data table notebook</a>'\n",
              "            + ' to learn more about interactive tables.';\n",
              "          element.innerHTML = '';\n",
              "          dataTable['output_type'] = 'display_data';\n",
              "          await google.colab.output.renderOutput(dataTable, element);\n",
              "          const docLink = document.createElement('div');\n",
              "          docLink.innerHTML = docLinkHtml;\n",
              "          element.appendChild(docLink);\n",
              "        }\n",
              "      </script>\n",
              "    </div>\n",
              "  </div>\n",
              "  "
            ]
          },
          "metadata": {},
          "execution_count": 15
        }
      ],
      "source": [
        "#display Rouge1\n",
        "df_lstm.columns.name = 'ROUGE-1'\n",
        "df_lstm.index.name = 'LSTM'\n",
        "df_lstm = df_lstm[['f1', 'recall', 'precision']]\n",
        "\n",
        "df_lstm"
      ]
    },
    {
      "cell_type": "markdown",
      "metadata": {
        "id": "9Z2ux57i90AJ"
      },
      "source": [
        "### LEDE3\n",
        "\n",
        "### Rouge1"
      ]
    },
    {
      "cell_type": "code",
      "execution_count": null,
      "metadata": {
        "id": "WvolSq_h90AJ"
      },
      "outputs": [],
      "source": [
        "#load data\n",
        "input_lede3 = 'cv_results_LEDE3.pickle'\n",
        "r_lede3 = pd.read_pickle(input_lede3)\n",
        "df_lede3 = pd.DataFrame(r_lede3['Rouge']['rouge1'], index=['LEDE3']).apply(lambda x: round(x,3))"
      ]
    },
    {
      "cell_type": "code",
      "execution_count": null,
      "metadata": {
        "id": "F4XTLsTD90AJ",
        "outputId": "e06da972-54ff-458b-dec9-a2d158b6be4a",
        "colab": {
          "base_uri": "https://localhost:8080/",
          "height": 143
        }
      },
      "outputs": [
        {
          "output_type": "execute_result",
          "data": {
            "text/plain": [
              "ROUGE-1          f1  recall  precision\n",
              "LEDE3         0.589   0.588      0.757\n",
              "Logistic Reg  0.525   0.518      0.696\n",
              "LSTM Bi 50    0.599   0.577      0.785"
            ],
            "text/html": [
              "\n",
              "  <div id=\"df-96a3c4f0-2fe7-41b0-91ce-3dea7f89e332\">\n",
              "    <div class=\"colab-df-container\">\n",
              "      <div>\n",
              "<style scoped>\n",
              "    .dataframe tbody tr th:only-of-type {\n",
              "        vertical-align: middle;\n",
              "    }\n",
              "\n",
              "    .dataframe tbody tr th {\n",
              "        vertical-align: top;\n",
              "    }\n",
              "\n",
              "    .dataframe thead th {\n",
              "        text-align: right;\n",
              "    }\n",
              "</style>\n",
              "<table border=\"1\" class=\"dataframe\">\n",
              "  <thead>\n",
              "    <tr style=\"text-align: right;\">\n",
              "      <th>ROUGE-1</th>\n",
              "      <th>f1</th>\n",
              "      <th>recall</th>\n",
              "      <th>precision</th>\n",
              "    </tr>\n",
              "  </thead>\n",
              "  <tbody>\n",
              "    <tr>\n",
              "      <th>LEDE3</th>\n",
              "      <td>0.589</td>\n",
              "      <td>0.588</td>\n",
              "      <td>0.757</td>\n",
              "    </tr>\n",
              "    <tr>\n",
              "      <th>Logistic Reg</th>\n",
              "      <td>0.525</td>\n",
              "      <td>0.518</td>\n",
              "      <td>0.696</td>\n",
              "    </tr>\n",
              "    <tr>\n",
              "      <th>LSTM Bi 50</th>\n",
              "      <td>0.599</td>\n",
              "      <td>0.577</td>\n",
              "      <td>0.785</td>\n",
              "    </tr>\n",
              "  </tbody>\n",
              "</table>\n",
              "</div>\n",
              "      <button class=\"colab-df-convert\" onclick=\"convertToInteractive('df-96a3c4f0-2fe7-41b0-91ce-3dea7f89e332')\"\n",
              "              title=\"Convert this dataframe to an interactive table.\"\n",
              "              style=\"display:none;\">\n",
              "        \n",
              "  <svg xmlns=\"http://www.w3.org/2000/svg\" height=\"24px\"viewBox=\"0 0 24 24\"\n",
              "       width=\"24px\">\n",
              "    <path d=\"M0 0h24v24H0V0z\" fill=\"none\"/>\n",
              "    <path d=\"M18.56 5.44l.94 2.06.94-2.06 2.06-.94-2.06-.94-.94-2.06-.94 2.06-2.06.94zm-11 1L8.5 8.5l.94-2.06 2.06-.94-2.06-.94L8.5 2.5l-.94 2.06-2.06.94zm10 10l.94 2.06.94-2.06 2.06-.94-2.06-.94-.94-2.06-.94 2.06-2.06.94z\"/><path d=\"M17.41 7.96l-1.37-1.37c-.4-.4-.92-.59-1.43-.59-.52 0-1.04.2-1.43.59L10.3 9.45l-7.72 7.72c-.78.78-.78 2.05 0 2.83L4 21.41c.39.39.9.59 1.41.59.51 0 1.02-.2 1.41-.59l7.78-7.78 2.81-2.81c.8-.78.8-2.07 0-2.86zM5.41 20L4 18.59l7.72-7.72 1.47 1.35L5.41 20z\"/>\n",
              "  </svg>\n",
              "      </button>\n",
              "      \n",
              "  <style>\n",
              "    .colab-df-container {\n",
              "      display:flex;\n",
              "      flex-wrap:wrap;\n",
              "      gap: 12px;\n",
              "    }\n",
              "\n",
              "    .colab-df-convert {\n",
              "      background-color: #E8F0FE;\n",
              "      border: none;\n",
              "      border-radius: 50%;\n",
              "      cursor: pointer;\n",
              "      display: none;\n",
              "      fill: #1967D2;\n",
              "      height: 32px;\n",
              "      padding: 0 0 0 0;\n",
              "      width: 32px;\n",
              "    }\n",
              "\n",
              "    .colab-df-convert:hover {\n",
              "      background-color: #E2EBFA;\n",
              "      box-shadow: 0px 1px 2px rgba(60, 64, 67, 0.3), 0px 1px 3px 1px rgba(60, 64, 67, 0.15);\n",
              "      fill: #174EA6;\n",
              "    }\n",
              "\n",
              "    [theme=dark] .colab-df-convert {\n",
              "      background-color: #3B4455;\n",
              "      fill: #D2E3FC;\n",
              "    }\n",
              "\n",
              "    [theme=dark] .colab-df-convert:hover {\n",
              "      background-color: #434B5C;\n",
              "      box-shadow: 0px 1px 3px 1px rgba(0, 0, 0, 0.15);\n",
              "      filter: drop-shadow(0px 1px 2px rgba(0, 0, 0, 0.3));\n",
              "      fill: #FFFFFF;\n",
              "    }\n",
              "  </style>\n",
              "\n",
              "      <script>\n",
              "        const buttonEl =\n",
              "          document.querySelector('#df-96a3c4f0-2fe7-41b0-91ce-3dea7f89e332 button.colab-df-convert');\n",
              "        buttonEl.style.display =\n",
              "          google.colab.kernel.accessAllowed ? 'block' : 'none';\n",
              "\n",
              "        async function convertToInteractive(key) {\n",
              "          const element = document.querySelector('#df-96a3c4f0-2fe7-41b0-91ce-3dea7f89e332');\n",
              "          const dataTable =\n",
              "            await google.colab.kernel.invokeFunction('convertToInteractive',\n",
              "                                                     [key], {});\n",
              "          if (!dataTable) return;\n",
              "\n",
              "          const docLinkHtml = 'Like what you see? Visit the ' +\n",
              "            '<a target=\"_blank\" href=https://colab.research.google.com/notebooks/data_table.ipynb>data table notebook</a>'\n",
              "            + ' to learn more about interactive tables.';\n",
              "          element.innerHTML = '';\n",
              "          dataTable['output_type'] = 'display_data';\n",
              "          await google.colab.output.renderOutput(dataTable, element);\n",
              "          const docLink = document.createElement('div');\n",
              "          docLink.innerHTML = docLinkHtml;\n",
              "          element.appendChild(docLink);\n",
              "        }\n",
              "      </script>\n",
              "    </div>\n",
              "  </div>\n",
              "  "
            ]
          },
          "metadata": {},
          "execution_count": 22
        }
      ],
      "source": [
        "#concatenate optimal models for baseline comparison and display Rouge1\n",
        "df_lede3_comp = pd.concat([df_lede3, df_sent_num_def, df_lstm_bi50])\n",
        "df_lede3_comp=df_lede3_comp[['f1', 'recall', 'precision']]\n",
        "df_lede3_comp.index = ['LEDE3', 'Logistic Reg', 'LSTM Bi 50']\n",
        "df_lede3_comp.columns.name = 'ROUGE-1'\n",
        "df_lede3_comp"
      ]
    },
    {
      "cell_type": "markdown",
      "source": [
        "### Load TextRank Data"
      ],
      "metadata": {
        "id": "PZKnv1Qc5b-7"
      }
    },
    {
      "cell_type": "code",
      "source": [
        "#load results\n",
        "input_textrank = 'cv_results_textrank.pickle'\n",
        "r_textrank = pd.read_pickle(input_textrank)"
      ],
      "metadata": {
        "id": "qoEloNX_5gB9"
      },
      "execution_count": null,
      "outputs": []
    },
    {
      "cell_type": "code",
      "source": [
        "for key, value in r_textrank.items():\n",
        "  print(key)"
      ],
      "metadata": {
        "colab": {
          "base_uri": "https://localhost:8080/"
        },
        "id": "5SWAlOt86_3C",
        "outputId": "ae29ae63-60a1-4c0c-cca3-1b8f8cd9e2f0"
      },
      "execution_count": null,
      "outputs": [
        {
          "output_type": "stream",
          "name": "stdout",
          "text": [
            "df_original\n",
            "Xy_doc_label_array\n",
            "df_X\n",
            "y_array\n",
            "textrank_scores_arr_per_doc\n",
            "Rouge\n",
            "doc_labels\n",
            "summaries_comp\n"
          ]
        }
      ]
    },
    {
      "cell_type": "code",
      "source": [
        "df =  r_textrank['df_original']"
      ],
      "metadata": {
        "id": "Wf7wd3xz7rkW"
      },
      "execution_count": null,
      "outputs": []
    },
    {
      "cell_type": "code",
      "source": [
        "df.loc[8]['summary']"
      ],
      "metadata": {
        "colab": {
          "base_uri": "https://localhost:8080/",
          "height": 87
        },
        "id": "8-2gSAQV9WBe",
        "outputId": "31b2b10d-0f11-477a-d94d-01df826bb74d"
      },
      "execution_count": null,
      "outputs": [
        {
          "output_type": "execute_result",
          "data": {
            "text/plain": [
              "'By CORKY SIEMASZKO DAILY NEWS STAFF WRITER Mother Teresa believed she was possessed by the Devil, the archbishop of Calcutta said yesterday. So the revered nun, whom the Vatican hopes to make a saint, underwent an exorcism and afterward \"slept like a baby,\"he said. Archbishop Henry D\\'Souza\\'s bizarre revelation came as millions yesterday marked the fourth anniversary of Mother Teresa\\'s death. But D\\'Souza told CNN and The Associated Press in India he truly believed'"
            ],
            "application/vnd.google.colaboratory.intrinsic+json": {
              "type": "string"
            }
          },
          "metadata": {},
          "execution_count": 52
        }
      ]
    },
    {
      "cell_type": "code",
      "source": [
        "summaries = r_textrank['summaries_comp']"
      ],
      "metadata": {
        "id": "lsZndSid8YKS"
      },
      "execution_count": null,
      "outputs": []
    },
    {
      "cell_type": "markdown",
      "source": [
        "###Pull article and display summaries across models + gold summary\n"
      ],
      "metadata": {
        "id": "rziiT79yfG5V"
      }
    },
    {
      "cell_type": "code",
      "execution_count": null,
      "metadata": {
        "id": "eXNKK1eo90AF",
        "outputId": "56e83ad2-2ff9-4eed-a86e-de5dbbeb01d0",
        "colab": {
          "base_uri": "https://localhost:8080/"
        }
      },
      "outputs": [
        {
          "output_type": "stream",
          "name": "stdout",
          "text": [
            "\u001b[1mOriginal  \u001b[0m\n",
            "By CORKY SIEMASZKO DAILY NEWS STAFF WRITER Mother Teresa believed she was possessed by the Devil, the archbishop of Calcutta said yesterday. So the revered nun, whom the Vatican hopes to make a saint, underwent an exorcism and afterward \"slept like a baby,\"he said. Archbishop Henry D'Souza's bizarre revelation came as millions yesterday marked the fourth anniversary of Mother Teresa's death. But D'Souza told CNN and The Associated Press in India he truly believed\n",
            "\n",
            "\u001b[1mLogistic Reg\u001b[0m\n",
            "Archbishop Henry D'Souza's bizarre revelation came as millions yesterday marked the fourth anniversary of Mother Teresa's death. The Catholic cleric said he diagnosed the demon in Mother Teresa shortly before she had a fatal heart attack Sept. 5, 1997, and died at age 87. Mother Teresa won a Nobel Prize for her life's work, and Pope John Paul has begun the process of declaring her a saint.\n",
            "\n",
            "\u001b[1mNeural Net\u001b[0m\n",
            "So the revered nun, whom the Vatican hopes to make a saint, underwent an exorcism and afterward \"slept like a baby,\" he said. The Catholic cleric said he diagnosed the demon in Mother Teresa shortly before she had a fatal heart attack Sept. 5, 1997, and died at age 87. So did Michael Cuneo, author of \"American Exorcism,\" which hits bookstores next week.\n",
            "\n",
            "\u001b[1mLSTM      \u001b[0m\n",
            "BY CORKY SIEMASZKO DAILY NEWS STAFF WRITER With Emily GestThursday, September 6th 2001, 2:23AM Mother Teresa believed she was possessed by the Devil, the archbishop of Calcutta said yesterday. So the revered nun, whom the Vatican hopes to make a saint, underwent an exorcism and afterward \"slept like a baby,\" he said.\n",
            "\n",
            "\u001b[1mLEDE3     \u001b[0m\n",
            "BY CORKY SIEMASZKO DAILY NEWS STAFF WRITER With Emily GestThursday, September 6th 2001, 2:23AM Mother Teresa believed she was possessed by the Devil, the archbishop of Calcutta said yesterday. So the revered nun, whom the Vatican hopes to make a saint, underwent an exorcism and afterward \"slept like a baby,\" he said.\n",
            "\n"
          ]
        }
      ],
      "source": [
        "#Pull article and display summaries across models + gold summary\n",
        "article_label = 1\n",
        "\n",
        "print('\\033[1m{:10s}\\033[0m'.format('Original')) \n",
        "print(r_textrank['summaries_comp'][article_label][1].replace('\\n\\n', ''))\n",
        "print('')\n",
        "\n",
        "print('\\033[1m{:10s}\\033[0m'.format('Logistic Reg')) \n",
        "print(r_def['summaries_comp'][article_label][0].replace('\\n\\n', ''))\n",
        "print('')\n",
        "\n",
        "print('\\033[1m{:10s}\\033[0m'.format('Neural Net')) \n",
        "print(r_nn2525['summaries_comp'][article_label][0].replace('\\n\\n', ''))\n",
        "print('')\n",
        "\n",
        "print('\\033[1m{:10s}\\033[0m'.format('LSTM')) \n",
        "print(r_lstm_bi50['summaries_comp'][article_label][0].replace('\\n\\n', ''))\n",
        "print('')\n",
        "\n",
        "print('\\033[1m{:10s}\\033[0m'.format('LEDE3')) \n",
        "print(r_lede3['summaries_comp'][article_label][0].replace('\\n\\n', ''))\n",
        "print('')\n",
        "\n",
        "\n",
        "#print('\\033[1m{:10s}\\033[0m'.format('TextRank')) \n",
        "#print(r_textrank['summaries_comp'][article_label][0].replace('\\n\\n', ''))"
      ]
    },
    {
      "cell_type": "code",
      "source": [
        "# TESTTT LIZA READ PICKLE FILE\n",
        "input_file = 'cv_results_top_3_logreg_default.pickle'\n",
        "r_test_pickle = pd.read_pickle(input_file)\n",
        "\n"
      ],
      "metadata": {
        "id": "e-K9v7wpwGQY"
      },
      "execution_count": null,
      "outputs": []
    }
  ],
  "metadata": {
    "kernelspec": {
      "display_name": "Python 3",
      "language": "python",
      "name": "python3"
    },
    "language_info": {
      "codemirror_mode": {
        "name": "ipython",
        "version": 3
      },
      "file_extension": ".py",
      "mimetype": "text/x-python",
      "name": "python",
      "nbconvert_exporter": "python",
      "pygments_lexer": "ipython3",
      "version": "3.8.3"
    },
    "colab": {
      "name": "Submit_CIS5930 Project: Analyze Results.ipynb",
      "provenance": [],
      "collapsed_sections": [
        "8P1mcULGME1a",
        "WsHZDhKh90AG"
      ],
      "toc_visible": true
    }
  },
  "nbformat": 4,
  "nbformat_minor": 0
}